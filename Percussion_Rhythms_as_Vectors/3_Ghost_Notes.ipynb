{
 "cells": [
  {
   "cell_type": "code",
   "execution_count": 1,
   "metadata": {
    "collapsed": false
   },
   "outputs": [
    {
     "name": "stderr",
     "output_type": "stream",
     "text": [
      "/Users/johnsnyder/anaconda/lib/python2.7/site-packages/matplotlib/font_manager.py:273: UserWarning: Matplotlib is building the font cache using fc-list. This may take a moment.\n",
      "  warnings.warn('Matplotlib is building the font cache using fc-list. This may take a moment.')\n"
     ]
    }
   ],
   "source": [
    "import pandas as pd\n",
    "import numpy as np\n",
    "import seaborn as sns\n",
    "import matplotlib.pyplot as plt\n",
    "import scipy.spatial.distance as distance\n",
    "%matplotlib inline"
   ]
  },
  {
   "cell_type": "markdown",
   "metadata": {},
   "source": [
    "# Ghost Notes: What's the difference?"
   ]
  },
  {
   "cell_type": "markdown",
   "metadata": {},
   "source": [
    "Ghost notes are an important part of many drum patterns. Similar to shakers, bells, hand drums, and other percussion instruments, they provide additional texture and complexity to the rhythm of a song.\n",
    "\n",
    "Lately, I've been listening quite a bit to my guilty pleasure, Animals as Leaders, an instrumental progressive metal band. Their drummer, Matt Gartska, is _very, very, very_ good (Matt, if you're reading this, I'd like a lesson, please). One of Matt's greatest strengths in my opinion is his ability to play very clean and precise ghost notes within almost any rhythm.\n",
    "\n",
    "For this notebook, I'm going to use AAL's song Physical Education as an example. This features a beat that 1) is the keystone of this song and 2) I learned this week (I'm very happy).\n",
    "\n",
    "Here's a video of Matt playing the song, with added embellishment from what's in the original recording: https://www.youtube.com/watch?v=fp1aLl9FfcQ.\n",
    "\n",
    "At the beginning of the song, Matt is playing that core rhythm between the kick, snare, and cymbal stack. Hear those ghost notes on the snare drum? At 0:46 in the video, Matt plays the bare bones, \"main beat\" of the song. Immediately following that beat, he adds ghost notes (in addition to some funky cymbal work - let's not think about that stuff for now). The general rhythm is there, but those ghost notes add a wonderful layer of complexity to the beat.\n",
    "\n",
    "_Note: Anecdotal confirmation from the Youtube comments that I'm using a good song as an example: \"That snare is permanently haunted. Holy shit his ghost notes game is on point.\"_"
   ]
  },
  {
   "cell_type": "markdown",
   "metadata": {},
   "source": [
    "This is what the bare-bones (top) and ghost-noted (bottom) beats look like:"
   ]
  },
  {
   "cell_type": "markdown",
   "metadata": {},
   "source": []
  },
  {
   "cell_type": "markdown",
   "metadata": {},
   "source": [
    "Things to discuss:\n",
    "\n",
    "Feel - Blake's song - differences in snare patterns impacting the feel of the song\n",
    "Ghost notes - treated as its own instrument or an extension of one? Physical Education"
   ]
  }
 ],
 "metadata": {
  "kernelspec": {
   "display_name": "Python [conda root]",
   "language": "python",
   "name": "conda-root-py"
  },
  "language_info": {
   "codemirror_mode": {
    "name": "ipython",
    "version": 2
   },
   "file_extension": ".py",
   "mimetype": "text/x-python",
   "name": "python",
   "nbconvert_exporter": "python",
   "pygments_lexer": "ipython2",
   "version": "2.7.12"
  }
 },
 "nbformat": 4,
 "nbformat_minor": 1
}
