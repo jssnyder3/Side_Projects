{
 "cells": [
  {
   "cell_type": "code",
   "execution_count": 1,
   "metadata": {
    "collapsed": false
   },
   "outputs": [
    {
     "name": "stderr",
     "output_type": "stream",
     "text": [
      "/Users/johnsnyder/anaconda/lib/python2.7/site-packages/matplotlib/font_manager.py:273: UserWarning: Matplotlib is building the font cache using fc-list. This may take a moment.\n",
      "  warnings.warn('Matplotlib is building the font cache using fc-list. This may take a moment.')\n"
     ]
    }
   ],
   "source": [
    "import pandas as pd\n",
    "import numpy as np\n",
    "import seaborn as sns\n",
    "import matplotlib.pyplot as plt\n",
    "import scipy.spatial.distance as distance\n",
    "%matplotlib inline"
   ]
  },
  {
   "cell_type": "markdown",
   "metadata": {},
   "source": [
    "# Comparing Drum Rhythms as Vectors, part deux: Approach for comparing drum set patterns"
   ]
  },
  {
   "cell_type": "markdown",
   "metadata": {},
   "source": [
    "This notebook is the second installment of a  ¯\\_(ツ)_/¯-part series on comparing drum rhythms mathematically."
   ]
  },
  {
   "cell_type": "markdown",
   "metadata": {},
   "source": [
    "Since my last post, I've begun considering approaches for comparing multi-instrument rhythms. Since a drumset can feature anywhere from 1 to len(Neil_Peart_drum_set), the majority of songs will feature a multiple rhythms that make up the percussion of a song.\n",
    "\n",
    "For example, let's look back at the drum machine example from last time:\n",
    "![Drum Machine](http://www.apfelmagazine.de/wp-content/uploads/dm1-the-drum-machine-3.jpg)"
   ]
  },
  {
   "cell_type": "markdown",
   "metadata": {},
   "source": [
    "This contains four layers of rhythms: Kick, Snare, Hihat (closed), and Rimshot. Each of these can be split out into its own one-dimensional vector, shown in the matrix below:"
   ]
  },
  {
   "cell_type": "code",
   "execution_count": 2,
   "metadata": {
    "collapsed": false
   },
   "outputs": [
    {
     "data": {
      "text/html": [
       "<div>\n",
       "<table border=\"1\" class=\"dataframe\">\n",
       "  <thead>\n",
       "    <tr style=\"text-align: right;\">\n",
       "      <th></th>\n",
       "      <th>1</th>\n",
       "      <th>1e</th>\n",
       "      <th>1&amp;</th>\n",
       "      <th>1a</th>\n",
       "      <th>2</th>\n",
       "      <th>2e</th>\n",
       "      <th>2&amp;</th>\n",
       "      <th>2a</th>\n",
       "      <th>3</th>\n",
       "      <th>3e</th>\n",
       "      <th>3&amp;</th>\n",
       "      <th>3a</th>\n",
       "      <th>4</th>\n",
       "      <th>4e</th>\n",
       "      <th>4&amp;</th>\n",
       "      <th>4a</th>\n",
       "    </tr>\n",
       "  </thead>\n",
       "  <tbody>\n",
       "    <tr>\n",
       "      <th>Kick</th>\n",
       "      <td>1</td>\n",
       "      <td>0</td>\n",
       "      <td>0</td>\n",
       "      <td>0</td>\n",
       "      <td>0</td>\n",
       "      <td>0</td>\n",
       "      <td>0</td>\n",
       "      <td>0</td>\n",
       "      <td>1</td>\n",
       "      <td>0</td>\n",
       "      <td>1</td>\n",
       "      <td>0</td>\n",
       "      <td>0</td>\n",
       "      <td>0</td>\n",
       "      <td>1</td>\n",
       "      <td>0</td>\n",
       "    </tr>\n",
       "    <tr>\n",
       "      <th>Snare</th>\n",
       "      <td>0</td>\n",
       "      <td>0</td>\n",
       "      <td>0</td>\n",
       "      <td>0</td>\n",
       "      <td>1</td>\n",
       "      <td>0</td>\n",
       "      <td>0</td>\n",
       "      <td>0</td>\n",
       "      <td>0</td>\n",
       "      <td>0</td>\n",
       "      <td>0</td>\n",
       "      <td>0</td>\n",
       "      <td>1</td>\n",
       "      <td>0</td>\n",
       "      <td>0</td>\n",
       "      <td>0</td>\n",
       "    </tr>\n",
       "    <tr>\n",
       "      <th>HHClosed</th>\n",
       "      <td>1</td>\n",
       "      <td>0</td>\n",
       "      <td>1</td>\n",
       "      <td>0</td>\n",
       "      <td>1</td>\n",
       "      <td>0</td>\n",
       "      <td>1</td>\n",
       "      <td>0</td>\n",
       "      <td>1</td>\n",
       "      <td>0</td>\n",
       "      <td>1</td>\n",
       "      <td>0</td>\n",
       "      <td>1</td>\n",
       "      <td>0</td>\n",
       "      <td>1</td>\n",
       "      <td>0</td>\n",
       "    </tr>\n",
       "    <tr>\n",
       "      <th>Rimshot</th>\n",
       "      <td>1</td>\n",
       "      <td>0</td>\n",
       "      <td>1</td>\n",
       "      <td>1</td>\n",
       "      <td>0</td>\n",
       "      <td>1</td>\n",
       "      <td>0</td>\n",
       "      <td>1</td>\n",
       "      <td>0</td>\n",
       "      <td>0</td>\n",
       "      <td>1</td>\n",
       "      <td>0</td>\n",
       "      <td>0</td>\n",
       "      <td>0</td>\n",
       "      <td>1</td>\n",
       "      <td>0</td>\n",
       "    </tr>\n",
       "  </tbody>\n",
       "</table>\n",
       "</div>"
      ],
      "text/plain": [
       "          1  1e  1&  1a  2  2e  2&  2a  3  3e  3&  3a  4  4e  4&  4a\n",
       "Kick      1   0   0   0  0   0   0   0  1   0   1   0  0   0   1   0\n",
       "Snare     0   0   0   0  1   0   0   0  0   0   0   0  1   0   0   0\n",
       "HHClosed  1   0   1   0  1   0   1   0  1   0   1   0  1   0   1   0\n",
       "Rimshot   1   0   1   1  0   1   0   1  0   0   1   0  0   0   1   0"
      ]
     },
     "execution_count": 2,
     "metadata": {},
     "output_type": "execute_result"
    }
   ],
   "source": [
    "# Create dictionary of drum parts\n",
    "DM1_pattern = {'Time':['1','1e','1&','1a','2','2e','2&','2a','3','3e','3&','3a','4','4e','4&','4a'],\n",
    "         'Kick':[1, 0, 0, 0, 0, 0, 0, 0, 1, 0, 1, 0, 0, 0, 1, 0],\n",
    "        'Snare':[0, 0, 0, 0, 1, 0, 0, 0, 0, 0, 0, 0, 1, 0, 0, 0],\n",
    "        'HHClosed':[1, 0, 1, 0, 1, 0, 1, 0, 1, 0, 1, 0, 1, 0, 1, 0],\n",
    "        'Rimshot':[1, 0, 1, 1, 0, 1, 0, 1, 0, 0, 1, 0, 0, 0, 1, 0]}\n",
    "# Transform dictionary into dataframe\n",
    "DM1_pattern_df = pd.DataFrame(DM1_pattern, index=DM1_pattern['Time'],\n",
    "                              columns=['Kick','Snare','HHClosed','Rimshot']).ix[:,:4].T\n",
    "\n",
    "DM1_pattern_df"
   ]
  },
  {
   "cell_type": "markdown",
   "metadata": {},
   "source": [
    "# Methodology for comparing multi-vector rhythms\n",
    "\n",
    "In order to compare the above rhythm with another one, I will calculate the Euclidean distance of each drumset component's rhythm between the same component in the second rhythm. In otherwords, compare the distance between the two kick vectors, the snare vectors, hihat vectors, etc. Once these distances are found, take the average of those numbers to obtain an overall distance between pattern 1 and pattern 2.\n",
    "\n",
    "In order to see this in practice, let's compare the above pattern with another one, below."
   ]
  },
  {
   "cell_type": "code",
   "execution_count": 3,
   "metadata": {
    "collapsed": false
   },
   "outputs": [
    {
     "data": {
      "text/html": [
       "<div>\n",
       "<table border=\"1\" class=\"dataframe\">\n",
       "  <thead>\n",
       "    <tr style=\"text-align: right;\">\n",
       "      <th></th>\n",
       "      <th>1</th>\n",
       "      <th>1e</th>\n",
       "      <th>1&amp;</th>\n",
       "      <th>1a</th>\n",
       "      <th>2</th>\n",
       "      <th>2e</th>\n",
       "      <th>2&amp;</th>\n",
       "      <th>2a</th>\n",
       "      <th>3</th>\n",
       "      <th>3e</th>\n",
       "      <th>3&amp;</th>\n",
       "      <th>3a</th>\n",
       "      <th>4</th>\n",
       "      <th>4e</th>\n",
       "      <th>4&amp;</th>\n",
       "      <th>4a</th>\n",
       "    </tr>\n",
       "  </thead>\n",
       "  <tbody>\n",
       "    <tr>\n",
       "      <th>Kick</th>\n",
       "      <td>1</td>\n",
       "      <td>0</td>\n",
       "      <td>0</td>\n",
       "      <td>0</td>\n",
       "      <td>0</td>\n",
       "      <td>0</td>\n",
       "      <td>1</td>\n",
       "      <td>0</td>\n",
       "      <td>1</td>\n",
       "      <td>0</td>\n",
       "      <td>0</td>\n",
       "      <td>0</td>\n",
       "      <td>0</td>\n",
       "      <td>0</td>\n",
       "      <td>1</td>\n",
       "      <td>0</td>\n",
       "    </tr>\n",
       "    <tr>\n",
       "      <th>Snare</th>\n",
       "      <td>0</td>\n",
       "      <td>0</td>\n",
       "      <td>0</td>\n",
       "      <td>0</td>\n",
       "      <td>1</td>\n",
       "      <td>0</td>\n",
       "      <td>0</td>\n",
       "      <td>0</td>\n",
       "      <td>0</td>\n",
       "      <td>0</td>\n",
       "      <td>0</td>\n",
       "      <td>0</td>\n",
       "      <td>1</td>\n",
       "      <td>0</td>\n",
       "      <td>0</td>\n",
       "      <td>0</td>\n",
       "    </tr>\n",
       "    <tr>\n",
       "      <th>HHClosed</th>\n",
       "      <td>0</td>\n",
       "      <td>1</td>\n",
       "      <td>0</td>\n",
       "      <td>1</td>\n",
       "      <td>0</td>\n",
       "      <td>1</td>\n",
       "      <td>0</td>\n",
       "      <td>1</td>\n",
       "      <td>0</td>\n",
       "      <td>1</td>\n",
       "      <td>0</td>\n",
       "      <td>1</td>\n",
       "      <td>0</td>\n",
       "      <td>1</td>\n",
       "      <td>0</td>\n",
       "      <td>1</td>\n",
       "    </tr>\n",
       "    <tr>\n",
       "      <th>Rimshot</th>\n",
       "      <td>1</td>\n",
       "      <td>0</td>\n",
       "      <td>1</td>\n",
       "      <td>0</td>\n",
       "      <td>1</td>\n",
       "      <td>0</td>\n",
       "      <td>1</td>\n",
       "      <td>0</td>\n",
       "      <td>1</td>\n",
       "      <td>0</td>\n",
       "      <td>1</td>\n",
       "      <td>0</td>\n",
       "      <td>1</td>\n",
       "      <td>0</td>\n",
       "      <td>1</td>\n",
       "      <td>0</td>\n",
       "    </tr>\n",
       "  </tbody>\n",
       "</table>\n",
       "</div>"
      ],
      "text/plain": [
       "          1  1e  1&  1a  2  2e  2&  2a  3  3e  3&  3a  4  4e  4&  4a\n",
       "Kick      1   0   0   0  0   0   1   0  1   0   0   0  0   0   1   0\n",
       "Snare     0   0   0   0  1   0   0   0  0   0   0   0  1   0   0   0\n",
       "HHClosed  0   1   0   1  0   1   0   1  0   1   0   1  0   1   0   1\n",
       "Rimshot   1   0   1   0  1   0   1   0  1   0   1   0  1   0   1   0"
      ]
     },
     "execution_count": 3,
     "metadata": {},
     "output_type": "execute_result"
    }
   ],
   "source": [
    "# Create dictionary of drum parts\n",
    "DM1_pattern = {'Time':['1','1e','1&','1a','2','2e','2&','2a','3','3e','3&','3a','4','4e','4&','4a'],\n",
    "         'Kick':[1, 0, 0, 0, 0, 0, 1, 0, 1, 0, 0, 0, 0, 0, 1, 0],\n",
    "        'Snare':[0, 0, 0, 0, 1, 0, 0, 0, 0, 0, 0, 0, 1, 0, 0, 0],\n",
    "        'HHClosed':[0, 1, 0, 1, 0, 1, 0, 1, 0, 1, 0, 1, 0, 1, 0, 1],\n",
    "        'Rimshot':[1, 0, 1, 0, 1, 0, 1, 0, 1, 0, 1, 0, 1, 0, 1, 0]}\n",
    "# Transform dictionary into dataframe\n",
    "DM1_pattern_df2 = pd.DataFrame(DM1_pattern, index=DM1_pattern['Time'],\n",
    "                              columns=['Kick','Snare','HHClosed','Rimshot']).ix[:,:4].T\n",
    "\n",
    "DM1_pattern_df2"
   ]
  },
  {
   "cell_type": "markdown",
   "metadata": {},
   "source": [
    "We can visualize these rhythm dataframes, similar to what we did in the first workbook:"
   ]
  },
  {
   "cell_type": "code",
   "execution_count": 4,
   "metadata": {
    "collapsed": false
   },
   "outputs": [
    {
     "data": {
      "image/png": "[encoded data removed]",
      "text/plain": [
       "<matplotlib.figure.Figure at 0x114e58d10>"
      ]
     },
     "metadata": {},
     "output_type": "display_data"
    }
   ],
   "source": [
    "fig = plt.figure()\n",
    "\n",
    "# sp1 - rhythm 1\n",
    "sub1 = plt.subplot(211)\n",
    "sns.heatmap(DM1_pattern_df)\n",
    "\n",
    "# sp2 - rhythm 2\n",
    "sub2 = plt.subplot(212)\n",
    "sns.heatmap(DM1_pattern_df2)\n",
    "\n",
    "plt.show()"
   ]
  },
  {
   "cell_type": "code",
   "execution_count": 5,
   "metadata": {
    "collapsed": false
   },
   "outputs": [
    {
     "data": {
      "text/plain": [
       "{'HHClosed': 4.0,\n",
       " 'Kick': 1.4142135623730951,\n",
       " 'Rimshot': 2.6457513110645907,\n",
       " 'Snare': 0.0}"
      ]
     },
     "execution_count": 5,
     "metadata": {},
     "output_type": "execute_result"
    }
   ],
   "source": [
    "example1_dist = {}\n",
    "for i,j in zip(DM1_pattern_df.index, range(len(DM1_pattern_df.index))):\n",
    "    example1_dist[\"{}\".format(i)]=distance.euclidean(DM1_pattern_df.ix[j,:],DM1_pattern_df2.ix[j,:])\n",
    "example1_dist"
   ]
  },
  {
   "cell_type": "code",
   "execution_count": 6,
   "metadata": {
    "collapsed": false
   },
   "outputs": [
    {
     "name": "stdout",
     "output_type": "stream",
     "text": [
      "Distance between Pattern 1 and Pattern 2: 2.014991\n"
     ]
    }
   ],
   "source": [
    "print 'Distance between Pattern 1 and Pattern 2: {:2f}'.format(np.mean(example1_dist.values()))"
   ]
  },
  {
   "cell_type": "markdown",
   "metadata": {},
   "source": [
    "The above example tells us a few things:\n",
    "\n",
    "- The hihat patterns have a maximum distance, 4.0, from each each, since none of the hits line up. Played against each other, the hihat patterns are akin to playing a single-stroke roll alternating between right and left hands.\n",
    "\n",
    "- The snare patterns have a minimum distance, 0.0, from each other, because, well, it's the same pattern!\n",
    "\n",
    "- The kick and rimshot patterns have some overlap to different extents, as we can visualize in the graphs above.\n",
    "\n",
    "All in all, when we take the average of these values, we achieve a similarity rating of 2.015.\n"
   ]
  },
  {
   "cell_type": "markdown",
   "metadata": {},
   "source": [
    "### Potential issues with this approach to explore\n",
    "\n",
    "There are a couple issues with this approach that I'll need to figure out eventually.\n",
    "\n",
    "**1. Different instruments in a rhythm** The most apparent one coming to mind being how to deal with drum patterns that feature different instruments (pattern 1 has 8th notes on the ride cymbal, pattern 2 has 8th notes on the hihat... how different are they in reality?).\n",
    "\n",
    "**2. A \"core\" set of instruments to the beat?** There may be reason to weight some elements of the drum set higher than others. For example, the kick and snare parts of the beat are often most important, with other elements of the kit then supporting those sections. If two beats have the same kick and snare parts but different supporting sections, how different are they? I see arguments in both directions, and this may be a contextual question (i.e., what are the other instruments doing? What are the driving forces/instruments behind the drums' rhythm?).\n",
    "\n",
    "**3. How to treat ghost notes.** A ghost note is a musical note with a rhythmic value, but no discernible pitch when played. They're in most rock, R&B, blues, and hip hop songs you'll hear on the radio (plus many other genres as well). Ghost notes are usually played on the snare drum and provide texture to a beat. However, I would not classify these as full-blown snare hits. Rather, they're either a \"quarter\" of a hit or perhaps a different layer of the rhythm altogether.\n",
    "\n",
    "**4. Feel versus rhythm.** My drum teacher frequently told me that the best drummers are those who can play the same rhythm in two different ways. My approach in its current form doesn't quantify \"feel.\" I'll explore this in the future, but for now, I'll try not to analyze anything recorded by Bernard Purdie.\n",
    "\n",
    "I'll look into questions 3 and 4 next time."
   ]
  },
  {
   "cell_type": "code",
   "execution_count": null,
   "metadata": {
    "collapsed": true
   },
   "outputs": [],
   "source": []
  }
 ],
 "metadata": {
  "anaconda-cloud": {},
  "kernelspec": {
   "display_name": "Python [conda root]",
   "language": "python",
   "name": "conda-root-py"
  },
  "language_info": {
   "codemirror_mode": {
    "name": "ipython",
    "version": 2
   },
   "file_extension": ".py",
   "mimetype": "text/x-python",
   "name": "python",
   "nbconvert_exporter": "python",
   "pygments_lexer": "ipython2",
   "version": "2.7.12"
  }
 },
 "nbformat": 4,
 "nbformat_minor": 1
}
