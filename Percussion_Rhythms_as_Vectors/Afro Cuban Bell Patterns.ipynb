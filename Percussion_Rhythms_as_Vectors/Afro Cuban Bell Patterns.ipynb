{
 "cells": [
  {
   "cell_type": "markdown",
   "metadata": {},
   "source": [
    "# Comparing Drum Rhythms as Vectors\n",
    "\n",
    "Lately I've been toying around with the idea of comparing drum styles mathematically. For example, I've been considering whether we can mathematically calculate how Ringo Starr's drumming with the Beatles changed over the course of the 1960's. How does my own drumming style compare to those of my influences? How does my style change between different projects I play in?\n",
    "\n",
    "Of course, I can qualitatively answer these questions, but it would be much more fun to throw some quantitative element into the mix.\n",
    "\n",
    "**This is a first step in doing so.**\n",
    "\n",
    "As a drummer, I typically learn challenging rhythms by inputting the them into a drum machine and then playing them back, allowing me to both see and hear the rhythm and then translate that into physical movements with my hands and feet. The interface for my drum machine is a grid, with each column serving as a subdivision of time and each row serving as a different sound (kick, snare, hihat, cymbal, etc.). Like so...\n",
    "\n",
    "![Drum Machine](http://www.apfelmagazine.de/wp-content/uploads/dm1-the-drum-machine-3.jpg)\n",
    "\n",
    "I realized that this grid, in its simplest form, looks very much like a matrix with 1's where a sound is activated (drum is hit) or 0 where there is a rest (or no action). Once these patterns are in matrix form, we can measure similarity between patterns by calculating the distances between them."
   ]
  },
  {
   "cell_type": "markdown",
   "metadata": {},
   "source": [
    "## Goal of this workbook\n",
    "\n",
    "This workbook is an initial attempt to test the approach of calculating the similarity between drum patterns mathematically, using simple one-instrument patterns as a test case.\n",
    "\n",
    "To test out this approach, I found a series of Afro-Cuban bell patterns on a Wikipedia page (https://en.wikipedia.org/wiki/Bell_pattern). I selected these patterns because I knew from experience that these patterns are related in some way. For example, as we'll see below, the clave pattern can be found in Cuban, African, and Brazilian drumming, though the pattern name may change from region to region. I also selected these patterns because they were all in the same time signature and on the same Wikipedia page, making the data collection effort *wayyyyy* easier :).\n",
    "\n",
    "I translated the bell patterns into one-dimensional matrices (i.e. vectors), and then calculated the Euclidean distance between each vector to compare their similarity.\n",
    "\n",
    "**Euclidean Distance Formula:**\n",
    "![Euclidean Distance](https://wikimedia.org/api/rest_v1/media/math/render/svg/a0ef4fe055b2a51b4cca43a05e5d1cd93f758dcc)\n",
    "\n"
   ]
  },
  {
   "cell_type": "code",
   "execution_count": 2,
   "metadata": {
    "collapsed": false
   },
   "outputs": [
    {
     "name": "stderr",
     "output_type": "stream",
     "text": [
      "/Users/johnsnyder/anaconda/lib/python2.7/site-packages/matplotlib/font_manager.py:273: UserWarning: Matplotlib is building the font cache using fc-list. This may take a moment.\n",
      "  warnings.warn('Matplotlib is building the font cache using fc-list. This may take a moment.')\n"
     ]
    }
   ],
   "source": [
    "import pandas as pd\n",
    "import numpy as np\n",
    "import seaborn as sns\n",
    "import matplotlib.pyplot as plt\n",
    "import scipy.spatial.distance as distance\n",
    "%matplotlib inline"
   ]
  },
  {
   "cell_type": "markdown",
   "metadata": {},
   "source": [
    "# 4/4 Sub-Saharan African Bell Patterns\n",
    "\n",
    "Pattern 1 (4/4 standard pattern) is played on the head of a small Yoruba bata drum in Benin. Pattern 2 is used by the Yoruba and Igbo people of Nigeria. Pattern 3 is the bell part in _fufume_ (Ghana). Pattern 4 is used by the Ga people (Ghana) for the rhythm _gahu_. Patterns 3 and 5 are used in the Ghanaian rhythm _kpanlogo_. Patterns 2 and 3 are known in Cuba as rumba clave and son clave respectively."
   ]
  },
  {
   "cell_type": "markdown",
   "metadata": {},
   "source": [
    "![African Bell Patterns](https://upload.wikimedia.org/wikipedia/en/thumb/6/69/African_bell-2.png/600px-African_bell-2.png)"
   ]
  },
  {
   "cell_type": "code",
   "execution_count": 3,
   "metadata": {
    "collapsed": false
   },
   "outputs": [],
   "source": [
    "# Create dictionary of rhythms\n",
    "SSA = {'Time':['1','1e','1&','1a','2','2e','2&','2a','3','3e','3&','3a','4','4e','4&','4a'],\n",
    "         'SSA_1':[1, 0, 0, 1, 0, 0, 1, 1, 0, 0, 1, 0, 1, 0, 0, 1],\n",
    "        'SSA_2':[1, 0, 0, 1, 0, 0, 0, 1, 0, 0, 1, 0, 1, 0, 0, 0],\n",
    "        'SSA_3':[1, 0, 0, 1, 0, 0, 1, 0, 0, 0, 1, 0, 1, 0, 0, 0],\n",
    "        'SSA_4':[1, 0, 0, 1, 0, 0, 1, 0, 0, 0, 1, 0, 0, 0, 1, 0],\n",
    "        'SSA_5':[0, 0, 0, 0, 0, 0, 1, 0, 0, 0, 1, 0, 0, 0, 1, 0]}"
   ]
  },
  {
   "cell_type": "code",
   "execution_count": 4,
   "metadata": {
    "collapsed": false
   },
   "outputs": [
    {
     "data": {
      "text/html": [
       "<div>\n",
       "<table border=\"1\" class=\"dataframe\">\n",
       "  <thead>\n",
       "    <tr style=\"text-align: right;\">\n",
       "      <th></th>\n",
       "      <th>1</th>\n",
       "      <th>1e</th>\n",
       "      <th>1&amp;</th>\n",
       "      <th>1a</th>\n",
       "      <th>2</th>\n",
       "      <th>2e</th>\n",
       "      <th>2&amp;</th>\n",
       "      <th>2a</th>\n",
       "      <th>3</th>\n",
       "      <th>3e</th>\n",
       "      <th>3&amp;</th>\n",
       "      <th>3a</th>\n",
       "      <th>4</th>\n",
       "      <th>4e</th>\n",
       "      <th>4&amp;</th>\n",
       "      <th>4a</th>\n",
       "    </tr>\n",
       "  </thead>\n",
       "  <tbody>\n",
       "    <tr>\n",
       "      <th>SSA_1</th>\n",
       "      <td>1</td>\n",
       "      <td>0</td>\n",
       "      <td>0</td>\n",
       "      <td>1</td>\n",
       "      <td>0</td>\n",
       "      <td>0</td>\n",
       "      <td>1</td>\n",
       "      <td>1</td>\n",
       "      <td>0</td>\n",
       "      <td>0</td>\n",
       "      <td>1</td>\n",
       "      <td>0</td>\n",
       "      <td>1</td>\n",
       "      <td>0</td>\n",
       "      <td>0</td>\n",
       "      <td>1</td>\n",
       "    </tr>\n",
       "    <tr>\n",
       "      <th>SSA_2</th>\n",
       "      <td>1</td>\n",
       "      <td>0</td>\n",
       "      <td>0</td>\n",
       "      <td>1</td>\n",
       "      <td>0</td>\n",
       "      <td>0</td>\n",
       "      <td>0</td>\n",
       "      <td>1</td>\n",
       "      <td>0</td>\n",
       "      <td>0</td>\n",
       "      <td>1</td>\n",
       "      <td>0</td>\n",
       "      <td>1</td>\n",
       "      <td>0</td>\n",
       "      <td>0</td>\n",
       "      <td>0</td>\n",
       "    </tr>\n",
       "    <tr>\n",
       "      <th>SSA_3</th>\n",
       "      <td>1</td>\n",
       "      <td>0</td>\n",
       "      <td>0</td>\n",
       "      <td>1</td>\n",
       "      <td>0</td>\n",
       "      <td>0</td>\n",
       "      <td>1</td>\n",
       "      <td>0</td>\n",
       "      <td>0</td>\n",
       "      <td>0</td>\n",
       "      <td>1</td>\n",
       "      <td>0</td>\n",
       "      <td>1</td>\n",
       "      <td>0</td>\n",
       "      <td>0</td>\n",
       "      <td>0</td>\n",
       "    </tr>\n",
       "    <tr>\n",
       "      <th>SSA_4</th>\n",
       "      <td>1</td>\n",
       "      <td>0</td>\n",
       "      <td>0</td>\n",
       "      <td>1</td>\n",
       "      <td>0</td>\n",
       "      <td>0</td>\n",
       "      <td>1</td>\n",
       "      <td>0</td>\n",
       "      <td>0</td>\n",
       "      <td>0</td>\n",
       "      <td>1</td>\n",
       "      <td>0</td>\n",
       "      <td>0</td>\n",
       "      <td>0</td>\n",
       "      <td>1</td>\n",
       "      <td>0</td>\n",
       "    </tr>\n",
       "    <tr>\n",
       "      <th>SSA_5</th>\n",
       "      <td>0</td>\n",
       "      <td>0</td>\n",
       "      <td>0</td>\n",
       "      <td>0</td>\n",
       "      <td>0</td>\n",
       "      <td>0</td>\n",
       "      <td>1</td>\n",
       "      <td>0</td>\n",
       "      <td>0</td>\n",
       "      <td>0</td>\n",
       "      <td>1</td>\n",
       "      <td>0</td>\n",
       "      <td>0</td>\n",
       "      <td>0</td>\n",
       "      <td>1</td>\n",
       "      <td>0</td>\n",
       "    </tr>\n",
       "  </tbody>\n",
       "</table>\n",
       "</div>"
      ],
      "text/plain": [
       "       1  1e  1&  1a  2  2e  2&  2a  3  3e  3&  3a  4  4e  4&  4a\n",
       "SSA_1  1   0   0   1  0   0   1   1  0   0   1   0  1   0   0   1\n",
       "SSA_2  1   0   0   1  0   0   0   1  0   0   1   0  1   0   0   0\n",
       "SSA_3  1   0   0   1  0   0   1   0  0   0   1   0  1   0   0   0\n",
       "SSA_4  1   0   0   1  0   0   1   0  0   0   1   0  0   0   1   0\n",
       "SSA_5  0   0   0   0  0   0   1   0  0   0   1   0  0   0   1   0"
      ]
     },
     "execution_count": 4,
     "metadata": {},
     "output_type": "execute_result"
    }
   ],
   "source": [
    "# Transform dictionary into dataframe\n",
    "SSA_df = pd.DataFrame(SSA, index=SSA['Time']).ix[:,:5].T\n",
    "SSA_df"
   ]
  },
  {
   "cell_type": "markdown",
   "metadata": {},
   "source": [
    "## We can visualize these rhythms using a heatmap"
   ]
  },
  {
   "cell_type": "code",
   "execution_count": 5,
   "metadata": {
    "collapsed": false
   },
   "outputs": [
    {
     "data": {
      "text/plain": [
       "<matplotlib.axes._subplots.AxesSubplot at 0x114c68cd0>"
      ]
     },
     "execution_count": 5,
     "metadata": {},
     "output_type": "execute_result"
    },
    {
     "data": {
      "image/png": "[encoded data removed]",
      "text/plain": [
       "<matplotlib.figure.Figure at 0x114c68d10>"
      ]
     },
     "metadata": {},
     "output_type": "display_data"
    }
   ],
   "source": [
    "# Visualize rhythms\n",
    "plt.figure(figsize=(10,5))\n",
    "plt.title('Sub-Saharan African Beats')\n",
    "sns.heatmap(SSA_df)"
   ]
  },
  {
   "cell_type": "markdown",
   "metadata": {},
   "source": [
    "# 4/4 Cuban Bell Patterns\n",
    "\n",
    "Pattern 1 is _son clave_, usually played on wooden claves. Pattern 2 is the _baqueteo_, the key pattern used in _danzón_ and the first expression of clave in written music. The baqueteo consists of the son clave strokes, plus four additional strokes. Not technically a bell pattern, the baqueteo is played on the güiro and on the heads of the timbales. This pattern is actually split between two percussive tones: muted and open.\n",
    "\n",
    "In the 1940s the cowbell was added to the timbales in the first _danzón-mambos_ of the charanga orchestras. Later, multiple cowbells, a cymbal and the occasional woodblock were added to the timbale setup. Patterns 3 and 4 are _guaguancó cáscara_ patterns adopted as mambo bell parts. During the mambo era of the 1940s, bongo players began regularly using a large hand-held cowbell during the montuno section in son groups. This bongo bell role was introduced in the _son conjunto_ of Arsenio Rodríguez. Pattern 5 is the basic bongo bell pattern."
   ]
  },
  {
   "cell_type": "markdown",
   "metadata": {},
   "source": [
    "![Cuban Bell Patterns](https://upload.wikimedia.org/wikipedia/commons/thumb/5/5e/Cuban_bells-2.tif/lossy-page1-600px-Cuban_bells-2.tif.jpg)"
   ]
  },
  {
   "cell_type": "code",
   "execution_count": 6,
   "metadata": {
    "collapsed": true
   },
   "outputs": [],
   "source": [
    "Cuban = {'Time':['1','1e','1&','1a','2','2e','2&','2a','3','3e','3&','3a','4','4e','4&','4a'],\n",
    "         'Cuban_1':[1, 0, 0, 1, 0, 0, 1, 0, 0, 0, 1, 0, 1, 0, 0, 0],\n",
    "        'Cuban_2':[1, 0, 1, 1, 0, 1, 1, 0, 1, 0, 1, 0, 1, 0, 1, 0],\n",
    "        'Cuban_3':[1, 0, 1, 1, 0, 1, 0, 1, 1, 0, 1, 0, 1, 0, 1, 0],\n",
    "        'Cuban_4':[1, 0, 1, 1, 0, 1, 0, 1, 1, 0, 1, 0, 1, 1, 0, 1],\n",
    "        'Cuban_5':[1, 0, 1, 1, 1, 0, 1, 1, 1, 0, 1, 0, 1, 0, 1, 1]}"
   ]
  },
  {
   "cell_type": "code",
   "execution_count": 7,
   "metadata": {
    "collapsed": false
   },
   "outputs": [
    {
     "data": {
      "text/html": [
       "<div>\n",
       "<table border=\"1\" class=\"dataframe\">\n",
       "  <thead>\n",
       "    <tr style=\"text-align: right;\">\n",
       "      <th></th>\n",
       "      <th>1</th>\n",
       "      <th>1e</th>\n",
       "      <th>1&amp;</th>\n",
       "      <th>1a</th>\n",
       "      <th>2</th>\n",
       "      <th>2e</th>\n",
       "      <th>2&amp;</th>\n",
       "      <th>2a</th>\n",
       "      <th>3</th>\n",
       "      <th>3e</th>\n",
       "      <th>3&amp;</th>\n",
       "      <th>3a</th>\n",
       "      <th>4</th>\n",
       "      <th>4e</th>\n",
       "      <th>4&amp;</th>\n",
       "      <th>4a</th>\n",
       "    </tr>\n",
       "  </thead>\n",
       "  <tbody>\n",
       "    <tr>\n",
       "      <th>Cuban_1</th>\n",
       "      <td>1</td>\n",
       "      <td>0</td>\n",
       "      <td>0</td>\n",
       "      <td>1</td>\n",
       "      <td>0</td>\n",
       "      <td>0</td>\n",
       "      <td>1</td>\n",
       "      <td>0</td>\n",
       "      <td>0</td>\n",
       "      <td>0</td>\n",
       "      <td>1</td>\n",
       "      <td>0</td>\n",
       "      <td>1</td>\n",
       "      <td>0</td>\n",
       "      <td>0</td>\n",
       "      <td>0</td>\n",
       "    </tr>\n",
       "    <tr>\n",
       "      <th>Cuban_2</th>\n",
       "      <td>1</td>\n",
       "      <td>0</td>\n",
       "      <td>1</td>\n",
       "      <td>1</td>\n",
       "      <td>0</td>\n",
       "      <td>1</td>\n",
       "      <td>1</td>\n",
       "      <td>0</td>\n",
       "      <td>1</td>\n",
       "      <td>0</td>\n",
       "      <td>1</td>\n",
       "      <td>0</td>\n",
       "      <td>1</td>\n",
       "      <td>0</td>\n",
       "      <td>1</td>\n",
       "      <td>0</td>\n",
       "    </tr>\n",
       "    <tr>\n",
       "      <th>Cuban_3</th>\n",
       "      <td>1</td>\n",
       "      <td>0</td>\n",
       "      <td>1</td>\n",
       "      <td>1</td>\n",
       "      <td>0</td>\n",
       "      <td>1</td>\n",
       "      <td>0</td>\n",
       "      <td>1</td>\n",
       "      <td>1</td>\n",
       "      <td>0</td>\n",
       "      <td>1</td>\n",
       "      <td>0</td>\n",
       "      <td>1</td>\n",
       "      <td>0</td>\n",
       "      <td>1</td>\n",
       "      <td>0</td>\n",
       "    </tr>\n",
       "    <tr>\n",
       "      <th>Cuban_4</th>\n",
       "      <td>1</td>\n",
       "      <td>0</td>\n",
       "      <td>1</td>\n",
       "      <td>1</td>\n",
       "      <td>0</td>\n",
       "      <td>1</td>\n",
       "      <td>0</td>\n",
       "      <td>1</td>\n",
       "      <td>1</td>\n",
       "      <td>0</td>\n",
       "      <td>1</td>\n",
       "      <td>0</td>\n",
       "      <td>1</td>\n",
       "      <td>1</td>\n",
       "      <td>0</td>\n",
       "      <td>1</td>\n",
       "    </tr>\n",
       "    <tr>\n",
       "      <th>Cuban_5</th>\n",
       "      <td>1</td>\n",
       "      <td>0</td>\n",
       "      <td>1</td>\n",
       "      <td>1</td>\n",
       "      <td>1</td>\n",
       "      <td>0</td>\n",
       "      <td>1</td>\n",
       "      <td>1</td>\n",
       "      <td>1</td>\n",
       "      <td>0</td>\n",
       "      <td>1</td>\n",
       "      <td>0</td>\n",
       "      <td>1</td>\n",
       "      <td>0</td>\n",
       "      <td>1</td>\n",
       "      <td>1</td>\n",
       "    </tr>\n",
       "  </tbody>\n",
       "</table>\n",
       "</div>"
      ],
      "text/plain": [
       "         1  1e  1&  1a  2  2e  2&  2a  3  3e  3&  3a  4  4e  4&  4a\n",
       "Cuban_1  1   0   0   1  0   0   1   0  0   0   1   0  1   0   0   0\n",
       "Cuban_2  1   0   1   1  0   1   1   0  1   0   1   0  1   0   1   0\n",
       "Cuban_3  1   0   1   1  0   1   0   1  1   0   1   0  1   0   1   0\n",
       "Cuban_4  1   0   1   1  0   1   0   1  1   0   1   0  1   1   0   1\n",
       "Cuban_5  1   0   1   1  1   0   1   1  1   0   1   0  1   0   1   1"
      ]
     },
     "execution_count": 7,
     "metadata": {},
     "output_type": "execute_result"
    }
   ],
   "source": [
    "Cuban_df = pd.DataFrame(Cuban, index=Cuban['Time']).ix[:,:5].T\n",
    "Cuban_df"
   ]
  },
  {
   "cell_type": "code",
   "execution_count": 8,
   "metadata": {
    "collapsed": false
   },
   "outputs": [
    {
     "data": {
      "text/plain": [
       "<matplotlib.axes._subplots.AxesSubplot at 0x114c68890>"
      ]
     },
     "execution_count": 8,
     "metadata": {},
     "output_type": "execute_result"
    },
    {
     "data": {
      "image/png": "[encoded data removed]",
      "text/plain": [
       "<matplotlib.figure.Figure at 0x114c68510>"
      ]
     },
     "metadata": {},
     "output_type": "display_data"
    }
   ],
   "source": [
    "plt.figure(figsize=(10,5))\n",
    "plt.title('Cuban Beats')\n",
    "sns.heatmap(Cuban_df)"
   ]
  },
  {
   "cell_type": "markdown",
   "metadata": {},
   "source": [
    "# 4/4 Afro-Brazilian Patterns\n",
    "\n",
    "Bell pattern 1 is used in _maculelê_ and some _Candomblé_ and _Macumba_ rhythms. Pattern 1 is known in Cuba as _son clave_. Bell 2 is used in _afoxê_ and can be thought of as pattern 1 embellished with four additional strokes. Bell 3 is used in _batucada_. Pattern 4 is the _maracatu_ bell and can be thought of as pattern 1 embellished with four additional strokes."
   ]
  },
  {
   "cell_type": "markdown",
   "metadata": {},
   "source": [
    "![Afro-Brazilian Bell Patterns](https://upload.wikimedia.org/wikipedia/en/e/e1/Brazilian_bells.png)"
   ]
  },
  {
   "cell_type": "code",
   "execution_count": 9,
   "metadata": {
    "collapsed": true
   },
   "outputs": [],
   "source": [
    "AfroBraz = {'Time':['1','1e','1&','1a','2','2e','2&','2a','3','3e','3&','3a','4','4e','4&','4a'],\n",
    "         'AB_1':[1, 0, 0, 1, 0, 0, 1, 0, 0, 0, 1, 0, 1, 0, 0, 0],\n",
    "        'AB_2':[1, 1, 0, 1, 0, 1, 1, 0, 1, 0, 1, 0, 1, 0, 1, 0],\n",
    "        'AB_3':[1, 0, 0, 1, 1, 0, 0, 1, 1, 0, 1, 0, 1, 0, 0, 1],\n",
    "        'AB_4':[1, 1, 0, 1, 1, 0, 1, 0, 1, 0, 1, 0, 1, 0, 1, 0]}"
   ]
  },
  {
   "cell_type": "code",
   "execution_count": 10,
   "metadata": {
    "collapsed": false,
    "scrolled": true
   },
   "outputs": [
    {
     "data": {
      "text/html": [
       "<div>\n",
       "<table border=\"1\" class=\"dataframe\">\n",
       "  <thead>\n",
       "    <tr style=\"text-align: right;\">\n",
       "      <th></th>\n",
       "      <th>1</th>\n",
       "      <th>1e</th>\n",
       "      <th>1&amp;</th>\n",
       "      <th>1a</th>\n",
       "      <th>2</th>\n",
       "      <th>2e</th>\n",
       "      <th>2&amp;</th>\n",
       "      <th>2a</th>\n",
       "      <th>3</th>\n",
       "      <th>3e</th>\n",
       "      <th>3&amp;</th>\n",
       "      <th>3a</th>\n",
       "      <th>4</th>\n",
       "      <th>4e</th>\n",
       "      <th>4&amp;</th>\n",
       "      <th>4a</th>\n",
       "    </tr>\n",
       "  </thead>\n",
       "  <tbody>\n",
       "    <tr>\n",
       "      <th>AB_1</th>\n",
       "      <td>1</td>\n",
       "      <td>0</td>\n",
       "      <td>0</td>\n",
       "      <td>1</td>\n",
       "      <td>0</td>\n",
       "      <td>0</td>\n",
       "      <td>1</td>\n",
       "      <td>0</td>\n",
       "      <td>0</td>\n",
       "      <td>0</td>\n",
       "      <td>1</td>\n",
       "      <td>0</td>\n",
       "      <td>1</td>\n",
       "      <td>0</td>\n",
       "      <td>0</td>\n",
       "      <td>0</td>\n",
       "    </tr>\n",
       "    <tr>\n",
       "      <th>AB_2</th>\n",
       "      <td>1</td>\n",
       "      <td>1</td>\n",
       "      <td>0</td>\n",
       "      <td>1</td>\n",
       "      <td>0</td>\n",
       "      <td>1</td>\n",
       "      <td>1</td>\n",
       "      <td>0</td>\n",
       "      <td>1</td>\n",
       "      <td>0</td>\n",
       "      <td>1</td>\n",
       "      <td>0</td>\n",
       "      <td>1</td>\n",
       "      <td>0</td>\n",
       "      <td>1</td>\n",
       "      <td>0</td>\n",
       "    </tr>\n",
       "    <tr>\n",
       "      <th>AB_3</th>\n",
       "      <td>1</td>\n",
       "      <td>0</td>\n",
       "      <td>0</td>\n",
       "      <td>1</td>\n",
       "      <td>1</td>\n",
       "      <td>0</td>\n",
       "      <td>0</td>\n",
       "      <td>1</td>\n",
       "      <td>1</td>\n",
       "      <td>0</td>\n",
       "      <td>1</td>\n",
       "      <td>0</td>\n",
       "      <td>1</td>\n",
       "      <td>0</td>\n",
       "      <td>0</td>\n",
       "      <td>1</td>\n",
       "    </tr>\n",
       "    <tr>\n",
       "      <th>AB_4</th>\n",
       "      <td>1</td>\n",
       "      <td>1</td>\n",
       "      <td>0</td>\n",
       "      <td>1</td>\n",
       "      <td>1</td>\n",
       "      <td>0</td>\n",
       "      <td>1</td>\n",
       "      <td>0</td>\n",
       "      <td>1</td>\n",
       "      <td>0</td>\n",
       "      <td>1</td>\n",
       "      <td>0</td>\n",
       "      <td>1</td>\n",
       "      <td>0</td>\n",
       "      <td>1</td>\n",
       "      <td>0</td>\n",
       "    </tr>\n",
       "  </tbody>\n",
       "</table>\n",
       "</div>"
      ],
      "text/plain": [
       "      1  1e  1&  1a  2  2e  2&  2a  3  3e  3&  3a  4  4e  4&  4a\n",
       "AB_1  1   0   0   1  0   0   1   0  0   0   1   0  1   0   0   0\n",
       "AB_2  1   1   0   1  0   1   1   0  1   0   1   0  1   0   1   0\n",
       "AB_3  1   0   0   1  1   0   0   1  1   0   1   0  1   0   0   1\n",
       "AB_4  1   1   0   1  1   0   1   0  1   0   1   0  1   0   1   0"
      ]
     },
     "execution_count": 10,
     "metadata": {},
     "output_type": "execute_result"
    }
   ],
   "source": [
    "AB_df = pd.DataFrame(AfroBraz, index=AfroBraz['Time']).ix[:,:4].T\n",
    "AB_df"
   ]
  },
  {
   "cell_type": "code",
   "execution_count": 26,
   "metadata": {
    "collapsed": false
   },
   "outputs": [
    {
     "data": {
      "text/plain": [
       "<matplotlib.axes._subplots.AxesSubplot at 0x11895f590>"
      ]
     },
     "execution_count": 26,
     "metadata": {},
     "output_type": "execute_result"
    },
    {
     "data": {
      "image/png": "[encoded data removed]",
      "text/plain": [
       "<matplotlib.figure.Figure at 0x118954610>"
      ]
     },
     "metadata": {},
     "output_type": "display_data"
    }
   ],
   "source": [
    "# Visualize patterns\n",
    "plt.figure(figsize=(10,5))\n",
    "plt.title('Afro-Brazilian Beats (Dark = Hit, Light = Rest)')\n",
    "sns.heatmap(AB_df)"
   ]
  },
  {
   "cell_type": "markdown",
   "metadata": {},
   "source": [
    "\n",
    "\n",
    "### We'll now combine the three dataframe's into one and calculate each row's similarity (i.e. distance) to others in the dataframe."
   ]
  },
  {
   "cell_type": "code",
   "execution_count": 12,
   "metadata": {
    "collapsed": true
   },
   "outputs": [],
   "source": [
    "# Combine all three tables into one\n",
    "rhythms = pd.concat([SSA_df,Cuban_df,AB_df], axis=0)"
   ]
  },
  {
   "cell_type": "code",
   "execution_count": 13,
   "metadata": {
    "collapsed": false
   },
   "outputs": [
    {
     "data": {
      "text/plain": [
       "<matplotlib.axes._subplots.AxesSubplot at 0x115594510>"
      ]
     },
     "execution_count": 13,
     "metadata": {},
     "output_type": "execute_result"
    },
    {
     "data": {
      "image/png": "[encoded data removed]",
      "text/plain": [
       "<matplotlib.figure.Figure at 0x11562f410>"
      ]
     },
     "metadata": {},
     "output_type": "display_data"
    }
   ],
   "source": [
    "plt.figure(figsize=(10,5))\n",
    "plt.title('All Patterns')\n",
    "sns.heatmap(rhythms)"
   ]
  },
  {
   "cell_type": "code",
   "execution_count": 14,
   "metadata": {
    "collapsed": false
   },
   "outputs": [],
   "source": [
    "# Create Euclidean distance dictionary, skipping comparing distance of the pattern to itself\n",
    "dist0 = {}\n",
    "for i in range(len(rhythms.index)):\n",
    "    temp_dist = {}\n",
    "    for j in range(len(rhythms.index)):\n",
    "        if i == j:\n",
    "            pass\n",
    "        else:\n",
    "            temp_dist['{}'.format(rhythms.index[j])] = distance.euclidean(rhythms.ix[i,:],rhythms.ix[j,:])\n",
    "    dist0['{}'.format(rhythms.index[i])] = temp_dist"
   ]
  },
  {
   "cell_type": "code",
   "execution_count": 15,
   "metadata": {
    "collapsed": false
   },
   "outputs": [
    {
     "data": {
      "text/html": [
       "<div>\n",
       "<table border=\"1\" class=\"dataframe\">\n",
       "  <thead>\n",
       "    <tr style=\"text-align: right;\">\n",
       "      <th></th>\n",
       "      <th>AB_1</th>\n",
       "      <th>AB_2</th>\n",
       "      <th>AB_3</th>\n",
       "      <th>AB_4</th>\n",
       "      <th>Cuban_1</th>\n",
       "      <th>Cuban_2</th>\n",
       "      <th>Cuban_3</th>\n",
       "      <th>Cuban_4</th>\n",
       "      <th>Cuban_5</th>\n",
       "      <th>SSA_1</th>\n",
       "      <th>SSA_2</th>\n",
       "      <th>SSA_3</th>\n",
       "      <th>SSA_4</th>\n",
       "      <th>SSA_5</th>\n",
       "    </tr>\n",
       "  </thead>\n",
       "  <tbody>\n",
       "    <tr>\n",
       "      <th>AB_1</th>\n",
       "      <td>NaN</td>\n",
       "      <td>2.000000</td>\n",
       "      <td>2.236068</td>\n",
       "      <td>2.000000</td>\n",
       "      <td>0.000000</td>\n",
       "      <td>2.000000</td>\n",
       "      <td>2.449490</td>\n",
       "      <td>2.645751</td>\n",
       "      <td>2.449490</td>\n",
       "      <td>1.414214</td>\n",
       "      <td>1.414214</td>\n",
       "      <td>0.000000</td>\n",
       "      <td>1.414214</td>\n",
       "      <td>2.000000</td>\n",
       "    </tr>\n",
       "    <tr>\n",
       "      <th>AB_2</th>\n",
       "      <td>2.000000</td>\n",
       "      <td>NaN</td>\n",
       "      <td>2.645751</td>\n",
       "      <td>1.414214</td>\n",
       "      <td>2.000000</td>\n",
       "      <td>1.414214</td>\n",
       "      <td>2.000000</td>\n",
       "      <td>2.645751</td>\n",
       "      <td>2.449490</td>\n",
       "      <td>2.449490</td>\n",
       "      <td>2.449490</td>\n",
       "      <td>2.000000</td>\n",
       "      <td>2.000000</td>\n",
       "      <td>2.449490</td>\n",
       "    </tr>\n",
       "    <tr>\n",
       "      <th>AB_3</th>\n",
       "      <td>2.236068</td>\n",
       "      <td>2.645751</td>\n",
       "      <td>NaN</td>\n",
       "      <td>2.236068</td>\n",
       "      <td>2.236068</td>\n",
       "      <td>2.645751</td>\n",
       "      <td>2.236068</td>\n",
       "      <td>2.000000</td>\n",
       "      <td>1.732051</td>\n",
       "      <td>1.732051</td>\n",
       "      <td>1.732051</td>\n",
       "      <td>2.236068</td>\n",
       "      <td>2.645751</td>\n",
       "      <td>3.000000</td>\n",
       "    </tr>\n",
       "    <tr>\n",
       "      <th>AB_4</th>\n",
       "      <td>2.000000</td>\n",
       "      <td>1.414214</td>\n",
       "      <td>2.236068</td>\n",
       "      <td>NaN</td>\n",
       "      <td>2.000000</td>\n",
       "      <td>2.000000</td>\n",
       "      <td>2.449490</td>\n",
       "      <td>3.000000</td>\n",
       "      <td>2.000000</td>\n",
       "      <td>2.449490</td>\n",
       "      <td>2.449490</td>\n",
       "      <td>2.000000</td>\n",
       "      <td>2.000000</td>\n",
       "      <td>2.449490</td>\n",
       "    </tr>\n",
       "    <tr>\n",
       "      <th>Cuban_1</th>\n",
       "      <td>0.000000</td>\n",
       "      <td>2.000000</td>\n",
       "      <td>2.236068</td>\n",
       "      <td>2.000000</td>\n",
       "      <td>NaN</td>\n",
       "      <td>2.000000</td>\n",
       "      <td>2.449490</td>\n",
       "      <td>2.645751</td>\n",
       "      <td>2.449490</td>\n",
       "      <td>1.414214</td>\n",
       "      <td>1.414214</td>\n",
       "      <td>0.000000</td>\n",
       "      <td>1.414214</td>\n",
       "      <td>2.000000</td>\n",
       "    </tr>\n",
       "    <tr>\n",
       "      <th>Cuban_2</th>\n",
       "      <td>2.000000</td>\n",
       "      <td>1.414214</td>\n",
       "      <td>2.645751</td>\n",
       "      <td>2.000000</td>\n",
       "      <td>2.000000</td>\n",
       "      <td>NaN</td>\n",
       "      <td>1.414214</td>\n",
       "      <td>2.236068</td>\n",
       "      <td>2.000000</td>\n",
       "      <td>2.449490</td>\n",
       "      <td>2.449490</td>\n",
       "      <td>2.000000</td>\n",
       "      <td>2.000000</td>\n",
       "      <td>2.449490</td>\n",
       "    </tr>\n",
       "    <tr>\n",
       "      <th>Cuban_3</th>\n",
       "      <td>2.449490</td>\n",
       "      <td>2.000000</td>\n",
       "      <td>2.236068</td>\n",
       "      <td>2.449490</td>\n",
       "      <td>2.449490</td>\n",
       "      <td>1.414214</td>\n",
       "      <td>NaN</td>\n",
       "      <td>1.732051</td>\n",
       "      <td>2.000000</td>\n",
       "      <td>2.449490</td>\n",
       "      <td>2.000000</td>\n",
       "      <td>2.449490</td>\n",
       "      <td>2.449490</td>\n",
       "      <td>2.828427</td>\n",
       "    </tr>\n",
       "    <tr>\n",
       "      <th>Cuban_4</th>\n",
       "      <td>2.645751</td>\n",
       "      <td>2.645751</td>\n",
       "      <td>2.000000</td>\n",
       "      <td>3.000000</td>\n",
       "      <td>2.645751</td>\n",
       "      <td>2.236068</td>\n",
       "      <td>1.732051</td>\n",
       "      <td>NaN</td>\n",
       "      <td>2.236068</td>\n",
       "      <td>2.236068</td>\n",
       "      <td>2.236068</td>\n",
       "      <td>2.645751</td>\n",
       "      <td>3.000000</td>\n",
       "      <td>3.316625</td>\n",
       "    </tr>\n",
       "    <tr>\n",
       "      <th>Cuban_5</th>\n",
       "      <td>2.449490</td>\n",
       "      <td>2.449490</td>\n",
       "      <td>1.732051</td>\n",
       "      <td>2.000000</td>\n",
       "      <td>2.449490</td>\n",
       "      <td>2.000000</td>\n",
       "      <td>2.000000</td>\n",
       "      <td>2.236068</td>\n",
       "      <td>NaN</td>\n",
       "      <td>2.000000</td>\n",
       "      <td>2.449490</td>\n",
       "      <td>2.449490</td>\n",
       "      <td>2.449490</td>\n",
       "      <td>2.828427</td>\n",
       "    </tr>\n",
       "    <tr>\n",
       "      <th>SSA_1</th>\n",
       "      <td>1.414214</td>\n",
       "      <td>2.449490</td>\n",
       "      <td>1.732051</td>\n",
       "      <td>2.449490</td>\n",
       "      <td>1.414214</td>\n",
       "      <td>2.449490</td>\n",
       "      <td>2.449490</td>\n",
       "      <td>2.236068</td>\n",
       "      <td>2.000000</td>\n",
       "      <td>NaN</td>\n",
       "      <td>1.414214</td>\n",
       "      <td>1.414214</td>\n",
       "      <td>2.000000</td>\n",
       "      <td>2.449490</td>\n",
       "    </tr>\n",
       "    <tr>\n",
       "      <th>SSA_2</th>\n",
       "      <td>1.414214</td>\n",
       "      <td>2.449490</td>\n",
       "      <td>1.732051</td>\n",
       "      <td>2.449490</td>\n",
       "      <td>1.414214</td>\n",
       "      <td>2.449490</td>\n",
       "      <td>2.000000</td>\n",
       "      <td>2.236068</td>\n",
       "      <td>2.449490</td>\n",
       "      <td>1.414214</td>\n",
       "      <td>NaN</td>\n",
       "      <td>1.414214</td>\n",
       "      <td>2.000000</td>\n",
       "      <td>2.449490</td>\n",
       "    </tr>\n",
       "    <tr>\n",
       "      <th>SSA_3</th>\n",
       "      <td>0.000000</td>\n",
       "      <td>2.000000</td>\n",
       "      <td>2.236068</td>\n",
       "      <td>2.000000</td>\n",
       "      <td>0.000000</td>\n",
       "      <td>2.000000</td>\n",
       "      <td>2.449490</td>\n",
       "      <td>2.645751</td>\n",
       "      <td>2.449490</td>\n",
       "      <td>1.414214</td>\n",
       "      <td>1.414214</td>\n",
       "      <td>NaN</td>\n",
       "      <td>1.414214</td>\n",
       "      <td>2.000000</td>\n",
       "    </tr>\n",
       "    <tr>\n",
       "      <th>SSA_4</th>\n",
       "      <td>1.414214</td>\n",
       "      <td>2.000000</td>\n",
       "      <td>2.645751</td>\n",
       "      <td>2.000000</td>\n",
       "      <td>1.414214</td>\n",
       "      <td>2.000000</td>\n",
       "      <td>2.449490</td>\n",
       "      <td>3.000000</td>\n",
       "      <td>2.449490</td>\n",
       "      <td>2.000000</td>\n",
       "      <td>2.000000</td>\n",
       "      <td>1.414214</td>\n",
       "      <td>NaN</td>\n",
       "      <td>1.414214</td>\n",
       "    </tr>\n",
       "    <tr>\n",
       "      <th>SSA_5</th>\n",
       "      <td>2.000000</td>\n",
       "      <td>2.449490</td>\n",
       "      <td>3.000000</td>\n",
       "      <td>2.449490</td>\n",
       "      <td>2.000000</td>\n",
       "      <td>2.449490</td>\n",
       "      <td>2.828427</td>\n",
       "      <td>3.316625</td>\n",
       "      <td>2.828427</td>\n",
       "      <td>2.449490</td>\n",
       "      <td>2.449490</td>\n",
       "      <td>2.000000</td>\n",
       "      <td>1.414214</td>\n",
       "      <td>NaN</td>\n",
       "    </tr>\n",
       "  </tbody>\n",
       "</table>\n",
       "</div>"
      ],
      "text/plain": [
       "             AB_1      AB_2      AB_3      AB_4   Cuban_1   Cuban_2   Cuban_3  \\\n",
       "AB_1          NaN  2.000000  2.236068  2.000000  0.000000  2.000000  2.449490   \n",
       "AB_2     2.000000       NaN  2.645751  1.414214  2.000000  1.414214  2.000000   \n",
       "AB_3     2.236068  2.645751       NaN  2.236068  2.236068  2.645751  2.236068   \n",
       "AB_4     2.000000  1.414214  2.236068       NaN  2.000000  2.000000  2.449490   \n",
       "Cuban_1  0.000000  2.000000  2.236068  2.000000       NaN  2.000000  2.449490   \n",
       "Cuban_2  2.000000  1.414214  2.645751  2.000000  2.000000       NaN  1.414214   \n",
       "Cuban_3  2.449490  2.000000  2.236068  2.449490  2.449490  1.414214       NaN   \n",
       "Cuban_4  2.645751  2.645751  2.000000  3.000000  2.645751  2.236068  1.732051   \n",
       "Cuban_5  2.449490  2.449490  1.732051  2.000000  2.449490  2.000000  2.000000   \n",
       "SSA_1    1.414214  2.449490  1.732051  2.449490  1.414214  2.449490  2.449490   \n",
       "SSA_2    1.414214  2.449490  1.732051  2.449490  1.414214  2.449490  2.000000   \n",
       "SSA_3    0.000000  2.000000  2.236068  2.000000  0.000000  2.000000  2.449490   \n",
       "SSA_4    1.414214  2.000000  2.645751  2.000000  1.414214  2.000000  2.449490   \n",
       "SSA_5    2.000000  2.449490  3.000000  2.449490  2.000000  2.449490  2.828427   \n",
       "\n",
       "          Cuban_4   Cuban_5     SSA_1     SSA_2     SSA_3     SSA_4     SSA_5  \n",
       "AB_1     2.645751  2.449490  1.414214  1.414214  0.000000  1.414214  2.000000  \n",
       "AB_2     2.645751  2.449490  2.449490  2.449490  2.000000  2.000000  2.449490  \n",
       "AB_3     2.000000  1.732051  1.732051  1.732051  2.236068  2.645751  3.000000  \n",
       "AB_4     3.000000  2.000000  2.449490  2.449490  2.000000  2.000000  2.449490  \n",
       "Cuban_1  2.645751  2.449490  1.414214  1.414214  0.000000  1.414214  2.000000  \n",
       "Cuban_2  2.236068  2.000000  2.449490  2.449490  2.000000  2.000000  2.449490  \n",
       "Cuban_3  1.732051  2.000000  2.449490  2.000000  2.449490  2.449490  2.828427  \n",
       "Cuban_4       NaN  2.236068  2.236068  2.236068  2.645751  3.000000  3.316625  \n",
       "Cuban_5  2.236068       NaN  2.000000  2.449490  2.449490  2.449490  2.828427  \n",
       "SSA_1    2.236068  2.000000       NaN  1.414214  1.414214  2.000000  2.449490  \n",
       "SSA_2    2.236068  2.449490  1.414214       NaN  1.414214  2.000000  2.449490  \n",
       "SSA_3    2.645751  2.449490  1.414214  1.414214       NaN  1.414214  2.000000  \n",
       "SSA_4    3.000000  2.449490  2.000000  2.000000  1.414214       NaN  1.414214  \n",
       "SSA_5    3.316625  2.828427  2.449490  2.449490  2.000000  1.414214       NaN  "
      ]
     },
     "execution_count": 15,
     "metadata": {},
     "output_type": "execute_result"
    }
   ],
   "source": [
    "# Create dataframe of Euclidean distances\n",
    "distances = pd.DataFrame(dist0)\n",
    "distances"
   ]
  },
  {
   "cell_type": "code",
   "execution_count": 16,
   "metadata": {
    "collapsed": false
   },
   "outputs": [
    {
     "data": {
      "text/plain": [
       "<matplotlib.axes._subplots.AxesSubplot at 0x115a69590>"
      ]
     },
     "execution_count": 16,
     "metadata": {},
     "output_type": "execute_result"
    },
    {
     "data": {
      "image/png": "[encoded data removed]",
      "text/plain": [
       "<matplotlib.figure.Figure at 0x115c9f810>"
      ]
     },
     "metadata": {},
     "output_type": "display_data"
    }
   ],
   "source": [
    "# Plot heatmap of distances between vectors (rhythms)\n",
    "plt.figure(figsize=(10,5))\n",
    "plt.ylabel\n",
    "sns.heatmap(distances, cmap='YlGnBu')"
   ]
  },
  {
   "cell_type": "markdown",
   "metadata": {},
   "source": [
    "# Quick break for some findings\n",
    "\n",
    "From looking at the heatmap, and distance scores, we gain a few immediate insights:\n",
    "\n",
    "- Cuban beat 1, Sub-Saharan African beat 3, and Afro-Brazilian beat 1 are all the same. This is the clave rhythm, which is prominent in most musical styles (clearly). Of course, this isn't a groundbreaking finding. We could have just looked closely at the rhythm notation or the rhythm heatmap. That said, the clave is relatively closely related to all Sub-Saharan African rhythms, as most seem to be variations of this rhythm.\n",
    "- Sub-Saharan African rhythms generally are more closely related to each other than Cuban or Afro-Brazilian rhythms. This is likely due to the relative sparsity of SSA bell rhythms compared to the others (fewer notes, fewer deviations in placement of notes).\n",
    "- On a related note, busier patterns generally are at a greater distance from other rhythms, representing less of a similarity. That said, I'm skeptical of this finding for a couple reasons. 1) I flattened some multi-tonal/instrumental rhythms into one dimension without assigning any distinction between the different tones. This could be misleading, considering that the \"core notes\" of the rhythm - that is, notes in the rhythm that provide its main structure - may be underweighted in this method.\n"
   ]
  },
  {
   "cell_type": "markdown",
   "metadata": {},
   "source": [
    "## Couple more things...\n",
    "\n",
    "Below, I've added up each column for each family of rhythms and taken the average to see the relative frequency of hits at each subdivision of time."
   ]
  },
  {
   "cell_type": "code",
   "execution_count": 20,
   "metadata": {
    "collapsed": false
   },
   "outputs": [],
   "source": [
    "AB_sum = pd.DataFrame(np.sum(AB_df)/len(AB_df))\n",
    "SSA_sum = pd.DataFrame(np.sum(SSA_df)/len(SSA_df))\n",
    "Cuban_sum = pd.DataFrame(np.sum(Cuban_df)/len(Cuban_df))\n",
    "rhythm_totals = pd.concat([AB_sum, SSA_sum, Cuban_sum],axis=1,).T"
   ]
  },
  {
   "cell_type": "code",
   "execution_count": 33,
   "metadata": {
    "collapsed": false
   },
   "outputs": [
    {
     "data": {
      "text/html": [
       "<div>\n",
       "<table border=\"1\" class=\"dataframe\">\n",
       "  <thead>\n",
       "    <tr style=\"text-align: right;\">\n",
       "      <th></th>\n",
       "      <th>1</th>\n",
       "      <th>1e</th>\n",
       "      <th>1&amp;</th>\n",
       "      <th>1a</th>\n",
       "      <th>2</th>\n",
       "      <th>2e</th>\n",
       "      <th>2&amp;</th>\n",
       "      <th>2a</th>\n",
       "      <th>3</th>\n",
       "      <th>3e</th>\n",
       "      <th>3&amp;</th>\n",
       "      <th>3a</th>\n",
       "      <th>4</th>\n",
       "      <th>4e</th>\n",
       "      <th>4&amp;</th>\n",
       "      <th>4a</th>\n",
       "    </tr>\n",
       "  </thead>\n",
       "  <tbody>\n",
       "    <tr>\n",
       "      <th>Afro-Brazilian</th>\n",
       "      <td>1.0</td>\n",
       "      <td>0.5</td>\n",
       "      <td>0.0</td>\n",
       "      <td>1.0</td>\n",
       "      <td>0.5</td>\n",
       "      <td>0.25</td>\n",
       "      <td>0.75</td>\n",
       "      <td>0.25</td>\n",
       "      <td>0.75</td>\n",
       "      <td>0.0</td>\n",
       "      <td>1.0</td>\n",
       "      <td>0.0</td>\n",
       "      <td>1.0</td>\n",
       "      <td>0.0</td>\n",
       "      <td>0.5</td>\n",
       "      <td>0.25</td>\n",
       "    </tr>\n",
       "    <tr>\n",
       "      <th>Sub-Saharan African</th>\n",
       "      <td>0.8</td>\n",
       "      <td>0.0</td>\n",
       "      <td>0.0</td>\n",
       "      <td>0.8</td>\n",
       "      <td>0.0</td>\n",
       "      <td>0.00</td>\n",
       "      <td>0.80</td>\n",
       "      <td>0.40</td>\n",
       "      <td>0.00</td>\n",
       "      <td>0.0</td>\n",
       "      <td>1.0</td>\n",
       "      <td>0.0</td>\n",
       "      <td>0.6</td>\n",
       "      <td>0.0</td>\n",
       "      <td>0.4</td>\n",
       "      <td>0.20</td>\n",
       "    </tr>\n",
       "    <tr>\n",
       "      <th>Cuban</th>\n",
       "      <td>1.0</td>\n",
       "      <td>0.0</td>\n",
       "      <td>0.8</td>\n",
       "      <td>1.0</td>\n",
       "      <td>0.2</td>\n",
       "      <td>0.60</td>\n",
       "      <td>0.60</td>\n",
       "      <td>0.60</td>\n",
       "      <td>0.80</td>\n",
       "      <td>0.0</td>\n",
       "      <td>1.0</td>\n",
       "      <td>0.0</td>\n",
       "      <td>1.0</td>\n",
       "      <td>0.2</td>\n",
       "      <td>0.6</td>\n",
       "      <td>0.40</td>\n",
       "    </tr>\n",
       "  </tbody>\n",
       "</table>\n",
       "</div>"
      ],
      "text/plain": [
       "                       1   1e   1&   1a    2    2e    2&    2a     3   3e  \\\n",
       "Afro-Brazilian       1.0  0.5  0.0  1.0  0.5  0.25  0.75  0.25  0.75  0.0   \n",
       "Sub-Saharan African  0.8  0.0  0.0  0.8  0.0  0.00  0.80  0.40  0.00  0.0   \n",
       "Cuban                1.0  0.0  0.8  1.0  0.2  0.60  0.60  0.60  0.80  0.0   \n",
       "\n",
       "                      3&   3a    4   4e   4&    4a  \n",
       "Afro-Brazilian       1.0  0.0  1.0  0.0  0.5  0.25  \n",
       "Sub-Saharan African  1.0  0.0  0.6  0.0  0.4  0.20  \n",
       "Cuban                1.0  0.0  1.0  0.2  0.6  0.40  "
      ]
     },
     "execution_count": 33,
     "metadata": {},
     "output_type": "execute_result"
    }
   ],
   "source": [
    "rhythm_totals.index = ['Afro-Brazilian','Sub-Saharan African','Cuban']\n",
    "rhythm_totals"
   ]
  },
  {
   "cell_type": "code",
   "execution_count": 37,
   "metadata": {
    "collapsed": false,
    "scrolled": false
   },
   "outputs": [
    {
     "data": {
      "text/plain": [
       "<matplotlib.axes._subplots.AxesSubplot at 0x119afd650>"
      ]
     },
     "execution_count": 37,
     "metadata": {},
     "output_type": "execute_result"
    },
    {
     "data": {
      "image/png": "[encoded data removed]",
      "text/plain": [
       "<matplotlib.figure.Figure at 0x119ba2fd0>"
      ]
     },
     "metadata": {},
     "output_type": "display_data"
    }
   ],
   "source": [
    "rhythm_totals.T.plot.bar(figsize=(12,5), title = 'Frequency of note placement for each region')"
   ]
  },
  {
   "cell_type": "markdown",
   "metadata": {},
   "source": [
    "The above graph shows that all rhythms are pretty consistently falling on 1, 1-a, 2-&, 3-&, and 4, which make up the clave beat. Afro-Brazilian and Cuban rhythms are also falling frequently on 3, but Sub-Saharahan African rhythms clearly is showing no love for 3. Moving forward, I'm curious about using \"distance-from-clave\" as a metric for these rhythms."
   ]
  },
  {
   "cell_type": "markdown",
   "metadata": {},
   "source": [
    "## Overall similarity\n",
    "\n",
    "Quickly comparing the overall distances between families of rhythms using the rhythm_totals dataframe used in the above graph, we see that Cuban and Afro-Brazilian rhythms have a greater similarity to each other than Sub-Saharan African rhythms. As stated before, this is likely because Afro-Brazilian and Cuban rhythms are much \"notier\" than SSA rhythms."
   ]
  },
  {
   "cell_type": "code",
   "execution_count": 23,
   "metadata": {
    "collapsed": false
   },
   "outputs": [
    {
     "data": {
      "text/plain": [
       "{'AB': [0.0, 1.1842719282327012, 1.15],\n",
       " 'C': [1.15, 1.4560219778561037, 0.0],\n",
       " 'SSA': [1.1842719282327012, 0.0, 1.4560219778561037]}"
      ]
     },
     "execution_count": 23,
     "metadata": {},
     "output_type": "execute_result"
    }
   ],
   "source": [
    "dist2 = {}\n",
    "\n",
    "for i in range(len(rhythm_totals.index)):\n",
    "    temp2 = []\n",
    "    for j in range(len(rhythm_totals.index)):\n",
    "        temp2.append(distance.euclidean(rhythm_totals.ix[i,:],rhythm_totals.ix[j,:]))\n",
    "    dist2['{}'.format(rhythm_totals.index[i])] = temp2\n",
    "dist2"
   ]
  },
  {
   "cell_type": "code",
   "execution_count": 24,
   "metadata": {
    "collapsed": false
   },
   "outputs": [
    {
     "data": {
      "text/html": [
       "<div>\n",
       "<table border=\"1\" class=\"dataframe\">\n",
       "  <thead>\n",
       "    <tr style=\"text-align: right;\">\n",
       "      <th></th>\n",
       "      <th>AB</th>\n",
       "      <th>SSA</th>\n",
       "      <th>C</th>\n",
       "    </tr>\n",
       "  </thead>\n",
       "  <tbody>\n",
       "    <tr>\n",
       "      <th>AB</th>\n",
       "      <td>0.000000</td>\n",
       "      <td>1.184272</td>\n",
       "      <td>1.150000</td>\n",
       "    </tr>\n",
       "    <tr>\n",
       "      <th>SSA</th>\n",
       "      <td>1.184272</td>\n",
       "      <td>0.000000</td>\n",
       "      <td>1.456022</td>\n",
       "    </tr>\n",
       "    <tr>\n",
       "      <th>C</th>\n",
       "      <td>1.150000</td>\n",
       "      <td>1.456022</td>\n",
       "      <td>0.000000</td>\n",
       "    </tr>\n",
       "  </tbody>\n",
       "</table>\n",
       "</div>"
      ],
      "text/plain": [
       "           AB       SSA         C\n",
       "AB   0.000000  1.184272  1.150000\n",
       "SSA  1.184272  0.000000  1.456022\n",
       "C    1.150000  1.456022  0.000000"
      ]
     },
     "execution_count": 24,
     "metadata": {},
     "output_type": "execute_result"
    }
   ],
   "source": [
    "tot_distances = pd.DataFrame(dist2)\n",
    "cols = [i for i in rhythm_totals.index]\n",
    "tot_distances = tot_distances[cols]\n",
    "tot_distances.index = cols\n",
    "tot_distances"
   ]
  },
  {
   "cell_type": "code",
   "execution_count": 39,
   "metadata": {
    "collapsed": false
   },
   "outputs": [
    {
     "data": {
      "text/plain": [
       "<matplotlib.axes._subplots.AxesSubplot at 0x11ac4b990>"
      ]
     },
     "execution_count": 39,
     "metadata": {},
     "output_type": "execute_result"
    },
    {
     "data": {
      "image/png": "[encoded data removed]",
      "text/plain": [
       "<matplotlib.figure.Figure at 0x11ac4b610>"
      ]
     },
     "metadata": {},
     "output_type": "display_data"
    }
   ],
   "source": [
    "# Plot heatmap of distances between vectors (i.e. schemas)\n",
    "plt.figure(figsize=(10,5))\n",
    "plt.title('Overall Similarity of Rhythms')\n",
    "sns.heatmap(tot_distances, cmap='YlGnBu')"
   ]
  },
  {
   "cell_type": "markdown",
   "metadata": {},
   "source": [
    "# Moving Forward\n",
    "\n",
    "There are a few directions I'd like to take this.\n",
    "\n",
    "- First, considering that we now have distances between each rhythm, I'd like to see how Dijkstra's algorithm could apply to this exercise. Since the algorithm finds the shortest distances between nodes in a graph, this could provide a path of greatest similarity among rhthms. It would be interesting to compare this path with historical/cultural relationships between rhythms and see if any similarities arise.\n",
    "- Secondly, I'm not convinced the approach of flattening and assigning absolute [0,1] values for rests/hits makes the most sense, as it removes a lot of the nuance of the rhythms. As seen in the Afro-Brazilian and Cuban rhythms, muted notes and different tones appear and aren't really captured in my approach besides the fact that they're happening. Figuring this element out would also allow me to start looking at multi-instrumental percussion rhythms - such as drumset patterns.\n",
    "- Third, these may not even be the best rhythms to be comparing with each other! I love you, Wikipedia, but there may be more appropriate rhythms, or additional ones, out there to be used in this dataset. It may be time to snoop around some additional sources."
   ]
  },
  {
   "cell_type": "code",
   "execution_count": null,
   "metadata": {
    "collapsed": true
   },
   "outputs": [],
   "source": []
  }
 ],
 "metadata": {
  "anaconda-cloud": {},
  "kernelspec": {
   "display_name": "Python [conda root]",
   "language": "python",
   "name": "conda-root-py"
  }
 },
 "nbformat": 4,
 "nbformat_minor": 1
}
